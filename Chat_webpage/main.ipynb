{
 "cells": [
  {
   "cell_type": "code",
   "execution_count": 29,
   "id": "4860b624",
   "metadata": {},
   "outputs": [],
   "source": [
    "from langchain_text_splitters import RecursiveCharacterTextSplitter\n",
    "from langchain_community.document_loaders import WebBaseLoader\n",
    "from langchain_community.vectorstores import Chroma\n",
    "\n",
    "from langchain_ollama import OllamaEmbeddings\n",
    "from langchain_ollama import ChatOllama"
   ]
  },
  {
   "cell_type": "code",
   "execution_count": 30,
   "id": "afcd057b",
   "metadata": {},
   "outputs": [
    {
     "name": "stdout",
     "output_type": "stream",
     "text": [
      "Loading webpage: https://en.wikipedia.org/wiki/Artificial_intelligence\n"
     ]
    }
   ],
   "source": [
    "## Load Webpage\n",
    "webpage_url = \"https://en.wikipedia.org/wiki/Artificial_intelligence\"\n",
    "print(\"Loading webpage:\", webpage_url)\n",
    "\n",
    "loader = WebBaseLoader(webpage_url)\n",
    "docs = loader.load()\n"
   ]
  },
  {
   "cell_type": "code",
   "execution_count": 31,
   "id": "ea640b49",
   "metadata": {},
   "outputs": [
    {
     "name": "stdout",
     "output_type": "stream",
     "text": [
      "Split into 334 pages.\n"
     ]
    }
   ],
   "source": [
    "## Splitting text\n",
    "splitter = RecursiveCharacterTextSplitter(\n",
    "    chunk_size=1000,\n",
    "    chunk_overlap=200,\n",
    ")\n",
    "pages = splitter.split_documents(docs)\n",
    "print(f\"Split into {len(pages)} pages.\")"
   ]
  },
  {
   "cell_type": "code",
   "execution_count": 32,
   "id": "6c45728e",
   "metadata": {},
   "outputs": [],
   "source": [
    "#  Embeddings and vs store\n",
    "embeddings = OllamaEmbeddings(model = \"llama3\")\n",
    "vector_store = Chroma.from_documents(pages, embedding = embeddings)\n"
   ]
  },
  {
   "cell_type": "code",
   "execution_count": 33,
   "id": "17baab36",
   "metadata": {},
   "outputs": [
    {
     "name": "stdout",
     "output_type": "stream",
     "text": [
      "1002\n"
     ]
    }
   ],
   "source": [
    "print(len(vector_store._collection.get()['ids']))\n",
    "\n",
    "# _collection is the underlying Chroma collection\n",
    "# get()['ids'] returns all stored vector IDs"
   ]
  },
  {
   "cell_type": "code",
   "execution_count": 34,
   "id": "4fe481f7",
   "metadata": {},
   "outputs": [],
   "source": [
    "## Load Ollama Chat model\n",
    "llm = ChatOllama(model=\"llama3\")"
   ]
  },
  {
   "cell_type": "code",
   "execution_count": 35,
   "id": "1fb6c221",
   "metadata": {},
   "outputs": [],
   "source": [
    "## Call Ollama \n",
    "def ollama_chat(question, context):\n",
    "    prompt = f\"\"\"You are an AI assistant. Use the following context to answer the question.\n",
    "    \n",
    "    Context: {context} \\n\\n\n",
    "    \n",
    "    Question: {question}\n",
    "    \"\"\"\n",
    "    \n",
    "    response = llm.invoke(prompt)\n",
    "    return response.content\n"
   ]
  },
  {
   "cell_type": "code",
   "execution_count": 36,
   "id": "21845dc1",
   "metadata": {},
   "outputs": [],
   "source": [
    "# Retrieve relevant documents\n",
    "retriever = vector_store.as_retriever(\n",
    "\n",
    ")"
   ]
  },
  {
   "cell_type": "code",
   "execution_count": 37,
   "id": "e40a717e",
   "metadata": {},
   "outputs": [],
   "source": [
    "## Combine all \n",
    "def combine_docs(docs):\n",
    "    combined_text = \"\\n\\n\".join([d.page_content for d in docs])\n",
    "    return combined_text"
   ]
  },
  {
   "cell_type": "code",
   "execution_count": 38,
   "id": "550b38d4",
   "metadata": {},
   "outputs": [],
   "source": [
    "## Rag chain\n",
    "def rag_chain(question):\n",
    "    relevant_docs = retriever.invoke(question)\n",
    "    formatted_context = combine_docs(relevant_docs)\n",
    "    answer = ollama_chat(question, formatted_context)\n",
    "    return answer"
   ]
  },
  {
   "cell_type": "code",
   "execution_count": 40,
   "id": "30623c16",
   "metadata": {},
   "outputs": [
    {
     "name": "stdout",
     "output_type": "stream",
     "text": [
      "Based on the provided context, AI (Artificial Intelligence) is an area of research that has no established unifying theory or paradigm, but has been driven by various subfields and goals. The traditional goals of AI research include:\n",
      "\n",
      "1. Learning\n",
      "2. Reasoning\n",
      "3. Knowledge representation\n",
      "4. Planning\n",
      "5. Natural Language Processing\n",
      "6. Perception\n",
      "7. Support for robotics\n",
      "\n",
      "To achieve these goals, AI researchers have adapted and integrated a wide range of techniques from various fields, including:\n",
      "\n",
      "1. Search and mathematical optimization\n",
      "2. Formal logic\n",
      "3. Artificial neural networks\n",
      "4. Statistics\n",
      "5. Operations research\n",
      "6. Economics\n",
      "7. Psychology\n",
      "8. Linguistics\n",
      "9. Philosophy\n",
      "10. Neuroscience\n",
      "\n",
      "The recent success of statistical machine learning in the 2010s has led some to use the term \"artificial intelligence\" to mean \"machine learning with neural networks\". However, critics argue that this approach is mostly sub-symbolic, soft and narrow, and may need to be revisited by future generations of AI researchers.\n",
      "\n",
      "Some companies are aiming to create artificial general intelligence (AGI), which is AI that can complete virtually any cognitive task at least as well as a human. Overall, AI research is an interdisciplinary field that draws upon various disciplines to develop intelligent machines that can perform tasks that typically require human-level intelligence.\n"
     ]
    }
   ],
   "source": [
    "### Ask question and get answer\n",
    "question = \"Explain Ai.\"\n",
    "\n",
    "answer = rag_chain(question)\n",
    "\n",
    "# print(\"Question:\", question)\n",
    "print(answer)"
   ]
  },
  {
   "cell_type": "code",
   "execution_count": null,
   "id": "386d8e35",
   "metadata": {},
   "outputs": [],
   "source": []
  },
  {
   "cell_type": "code",
   "execution_count": null,
   "id": "418b7466",
   "metadata": {},
   "outputs": [],
   "source": []
  },
  {
   "cell_type": "code",
   "execution_count": null,
   "id": "4eb68a61",
   "metadata": {},
   "outputs": [],
   "source": []
  },
  {
   "cell_type": "code",
   "execution_count": null,
   "id": "d65f6ccf",
   "metadata": {},
   "outputs": [],
   "source": []
  }
 ],
 "metadata": {
  "kernelspec": {
   "display_name": "genv (3.10.11)",
   "language": "python",
   "name": "python3"
  },
  "language_info": {
   "codemirror_mode": {
    "name": "ipython",
    "version": 3
   },
   "file_extension": ".py",
   "mimetype": "text/x-python",
   "name": "python",
   "nbconvert_exporter": "python",
   "pygments_lexer": "ipython3",
   "version": "3.10.11"
  }
 },
 "nbformat": 4,
 "nbformat_minor": 5
}
